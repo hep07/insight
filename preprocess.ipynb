{
 "cells": [
  {
   "cell_type": "code",
   "execution_count": 3,
   "metadata": {},
   "outputs": [],
   "source": [
    "from __future__ import unicode_literals\n",
    "\n",
    "import os\n",
    "\n",
    "import numpy as np\n",
    "import pandas as pd\n",
    "from sklearn.preprocessing import LabelEncoder\n",
    "\n",
    "\n",
    "def parse_page(x):\n",
    "    x = x.split('_')\n",
    "    return ' '.join(x[:-3]), x[-3], x[-2], x[-1]\n",
    "\n",
    "\n",
    "def nan_fill_forward(x):\n",
    "    for i in range(x.shape[0]):\n",
    "        fill_val = None\n",
    "        for j in range(x.shape[1] - 3, x.shape[1]):\n",
    "            if np.isnan(x[i, j]) and fill_val is not None:\n",
    "                x[i, j] = fill_val\n",
    "            else:\n",
    "                fill_val = x[i, j]\n",
    "    return x\n",
    "\n",
    "root = 'tf-data/'\n",
    "\n",
    "df = pd.read_pickle('data_mini/train_mini.pkl')\n",
    "date_cols = [i for i in df.columns if i != 'Page']\n",
    "\n",
    "df['name'], df['project'], df['access'], df['agent'] = zip(*df['Page'].apply(parse_page))\n",
    "\n",
    "le = LabelEncoder()\n",
    "df['project'] = le.fit_transform(df['project'])\n",
    "df['access'] = le.fit_transform(df['access'])\n",
    "df['agent'] = le.fit_transform(df['agent'])\n",
    "df['page_id'] = le.fit_transform(df['Page'])\n",
    "\n",
    "if not os.path.isdir('data/processed'):\n",
    "    os.makedirs('data/processed')\n",
    "\n",
    "df[['page_id', 'Page']].to_csv(root+'processed/page_ids.csv', encoding='utf-8', index=False)\n",
    "\n",
    "data = df[date_cols].values\n",
    "np.save(root+'processed/data.npy', np.nan_to_num(data))\n",
    "np.save(root+'processed/is_nan.npy', np.isnan(data).astype(int))\n",
    "np.save(root+'processed/project.npy', df['project'].values)\n",
    "np.save(root+'processed/access.npy', df['access'].values)\n",
    "np.save(root+'processed/agent.npy', df['agent'].values)\n",
    "np.save(root+'processed/page_id.npy', df['page_id'].values)\n",
    "\n",
    "test_data = nan_fill_forward(df[date_cols].values)\n",
    "np.save(root+'processed/test_data.npy', np.nan_to_num(test_data))\n",
    "np.save(root+'processed/test_is_nan.npy', np.isnan(test_data).astype(int))"
   ]
  },
  {
   "cell_type": "code",
   "execution_count": null,
   "metadata": {},
   "outputs": [],
   "source": []
  }
 ],
 "metadata": {
  "kernelspec": {
   "display_name": "Python 3",
   "language": "python",
   "name": "python3"
  },
  "language_info": {
   "codemirror_mode": {
    "name": "ipython",
    "version": 3
   },
   "file_extension": ".py",
   "mimetype": "text/x-python",
   "name": "python",
   "nbconvert_exporter": "python",
   "pygments_lexer": "ipython3",
   "version": "3.6.3"
  }
 },
 "nbformat": 4,
 "nbformat_minor": 2
}
