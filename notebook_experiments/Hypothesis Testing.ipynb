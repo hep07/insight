{
 "cells": [
  {
   "cell_type": "code",
   "execution_count": 1,
   "metadata": {
    "collapsed": true
   },
   "outputs": [],
   "source": [
    "import numpy as np\n",
    "import pandas as pd\n",
    "import datetime\n",
    "pd.options.display.max_columns = 999\n",
    "pd.options.display.max_colwidth = 100\n",
    "\n",
    "import matplotlib.pyplot as plt\n",
    "%matplotlib inline\n",
    "\n",
    "import sys, os, gc, types\n",
    "import time\n",
    "from subprocess import check_output\n",
    "\n",
    "import sklearn\n",
    "from sklearn.model_selection import train_test_split"
   ]
  },
  {
   "cell_type": "code",
   "execution_count": 5,
   "metadata": {
    "collapsed": false
   },
   "outputs": [
    {
     "name": "stdout",
     "output_type": "stream",
     "text": [
      "/Users/junxie/Dropbox/JuanCode/Insight/Project/\n"
     ]
    }
   ],
   "source": [
    "root_paths = [\n",
    "    \"/Users/jiayou/Dropbox/JuanCode/Insight/Project/data2/\", #Jun Mac\n",
    "    \"/Users/jiayou/Dropbox/Documents/JuanCode/Insight/Project/data2/\", #You Mini\n",
    "    '/Users/junxie/Dropbox/JuanCode/Insight/Project/', #Pro\n",
    "    '/mnt/WD Black/Dropbox/JuanCode/Insight/Project/data2/', #1080\n",
    "    '/home/paperspace/Documents/insight/insight/data2/', #paperspace\n",
    "    \n",
    "]\n",
    "root = None\n",
    "for p in root_paths:\n",
    "    if os.path.exists(p):\n",
    "        root = p\n",
    "        break\n",
    "print(root)"
   ]
  },
  {
   "cell_type": "code",
   "execution_count": 21,
   "metadata": {
    "collapsed": true
   },
   "outputs": [],
   "source": [
    "prediction = {}\n",
    "prediction['gb'] = pd.read_csv(root + 'data2/submission/test_prediction.gb_v2_r1.csv')\n",
    "prediction['rnn'] = pd.read_csv(root + 'data2/submission/test_prediction.nn_v1.csv')\n",
    "prediction['wave'] = pd.read_csv(root + 'data2/submission/test_prediction.wavenet_v1.csv')"
   ]
  },
  {
   "cell_type": "code",
   "execution_count": null,
   "metadata": {
    "collapsed": true
   },
   "outputs": [],
   "source": [
    "true = pd.read_csv(root + 'data2/solution_11_15.csv')\n",
    "true.sort_values(by='Id', inplace=True)"
   ]
  },
  {
   "cell_type": "code",
   "execution_count": 41,
   "metadata": {
    "collapsed": true
   },
   "outputs": [],
   "source": [
    "true.reset_index(drop=True, inplace=True)"
   ]
  },
  {
   "cell_type": "code",
   "execution_count": 42,
   "metadata": {
    "collapsed": false
   },
   "outputs": [
    {
     "name": "stdout",
     "output_type": "stream",
     "text": [
      "8993906\n",
      "8993906\n",
      "8993906\n"
     ]
    }
   ],
   "source": [
    "for name in ['gb', 'rnn', 'wave']:\n",
    "    prediction[name].sort_values(by='Id', inplace=True)\n",
    "    prediction[name].reset_index(drop=True, inplace=True)\n",
    "    print((prediction[name].Id == true.Id).sum())\n",
    "    true[name] = prediction[name].Visits"
   ]
  },
  {
   "cell_type": "code",
   "execution_count": 43,
   "metadata": {
    "collapsed": false
   },
   "outputs": [
    {
     "data": {
      "text/html": [
       "<div>\n",
       "<style scoped>\n",
       "    .dataframe tbody tr th:only-of-type {\n",
       "        vertical-align: middle;\n",
       "    }\n",
       "\n",
       "    .dataframe tbody tr th {\n",
       "        vertical-align: top;\n",
       "    }\n",
       "\n",
       "    .dataframe thead th {\n",
       "        text-align: right;\n",
       "    }\n",
       "</style>\n",
       "<table border=\"1\" class=\"dataframe\">\n",
       "  <thead>\n",
       "    <tr style=\"text-align: right;\">\n",
       "      <th></th>\n",
       "      <th>Id</th>\n",
       "      <th>Visits</th>\n",
       "      <th>Usage</th>\n",
       "      <th>gb</th>\n",
       "      <th>rnn</th>\n",
       "      <th>wave</th>\n",
       "    </tr>\n",
       "  </thead>\n",
       "  <tbody>\n",
       "    <tr>\n",
       "      <th>0</th>\n",
       "      <td>0000009abb1c</td>\n",
       "      <td>150.0</td>\n",
       "      <td>Public</td>\n",
       "      <td>99.0</td>\n",
       "      <td>110.0</td>\n",
       "      <td>73</td>\n",
       "    </tr>\n",
       "    <tr>\n",
       "      <th>1</th>\n",
       "      <td>0000023b7434</td>\n",
       "      <td>4.0</td>\n",
       "      <td>Public</td>\n",
       "      <td>8.0</td>\n",
       "      <td>8.0</td>\n",
       "      <td>8</td>\n",
       "    </tr>\n",
       "    <tr>\n",
       "      <th>2</th>\n",
       "      <td>000002ddbe6e</td>\n",
       "      <td>163.0</td>\n",
       "      <td>Public</td>\n",
       "      <td>90.0</td>\n",
       "      <td>111.0</td>\n",
       "      <td>99</td>\n",
       "    </tr>\n",
       "    <tr>\n",
       "      <th>3</th>\n",
       "      <td>0000032f82ac</td>\n",
       "      <td>1129.0</td>\n",
       "      <td>Public</td>\n",
       "      <td>730.0</td>\n",
       "      <td>841.0</td>\n",
       "      <td>897</td>\n",
       "    </tr>\n",
       "    <tr>\n",
       "      <th>4</th>\n",
       "      <td>000003e266a3</td>\n",
       "      <td>87.0</td>\n",
       "      <td>Public</td>\n",
       "      <td>47.0</td>\n",
       "      <td>58.0</td>\n",
       "      <td>49</td>\n",
       "    </tr>\n",
       "  </tbody>\n",
       "</table>\n",
       "</div>"
      ],
      "text/plain": [
       "             Id  Visits   Usage     gb    rnn  wave\n",
       "0  0000009abb1c   150.0  Public   99.0  110.0    73\n",
       "1  0000023b7434     4.0  Public    8.0    8.0     8\n",
       "2  000002ddbe6e   163.0  Public   90.0  111.0    99\n",
       "3  0000032f82ac  1129.0  Public  730.0  841.0   897\n",
       "4  000003e266a3    87.0  Public   47.0   58.0    49"
      ]
     },
     "execution_count": 43,
     "metadata": {},
     "output_type": "execute_result"
    }
   ],
   "source": [
    "true.head()"
   ]
  },
  {
   "cell_type": "code",
   "execution_count": 44,
   "metadata": {
    "collapsed": false
   },
   "outputs": [],
   "source": [
    "final_df = true[true.Usage == 'Public']"
   ]
  },
  {
   "cell_type": "code",
   "execution_count": 51,
   "metadata": {
    "collapsed": false
   },
   "outputs": [],
   "source": [
    "def calc_smape(y_true, y_pred):\n",
    "    loss = np.abs(y_true - y_pred) / np.maximum(1e-6, (np.abs(y_true) + np.abs(y_pred))) * 200\n",
    "    return loss"
   ]
  },
  {
   "cell_type": "code",
   "execution_count": 52,
   "metadata": {
    "collapsed": false
   },
   "outputs": [
    {
     "name": "stderr",
     "output_type": "stream",
     "text": [
      "/Users/junxie/anaconda/lib/python3.6/site-packages/ipykernel/__main__.py:2: SettingWithCopyWarning: \n",
      "A value is trying to be set on a copy of a slice from a DataFrame.\n",
      "Try using .loc[row_indexer,col_indexer] = value instead\n",
      "\n",
      "See the caveats in the documentation: http://pandas.pydata.org/pandas-docs/stable/indexing.html#indexing-view-versus-copy\n",
      "  from ipykernel import kernelapp as app\n"
     ]
    }
   ],
   "source": [
    "for name in ['gb', 'rnn', 'wave']:\n",
    "    final_df['{}_SMAPE'.format(name)] = calc_smape(final_df.Visits, final_df[name])"
   ]
  },
  {
   "cell_type": "code",
   "execution_count": 59,
   "metadata": {
    "collapsed": false
   },
   "outputs": [
    {
     "name": "stdout",
     "output_type": "stream",
     "text": [
      "gb 39.54901135260361\n",
      "rnn 38.60387041031282\n",
      "wave 37.18357135298225\n"
     ]
    }
   ],
   "source": [
    "for name in ['gb', 'rnn', 'wave']:\n",
    "    print(name, final_df['{}_SMAPE'.format(name)].mean())"
   ]
  },
  {
   "cell_type": "code",
   "execution_count": 54,
   "metadata": {
    "collapsed": false
   },
   "outputs": [
    {
     "data": {
      "text/plain": [
       "0.9451409422668224"
      ]
     },
     "execution_count": 54,
     "metadata": {},
     "output_type": "execute_result"
    }
   ],
   "source": [
    "(final_df.gb_SMAPE - final_df.rnn_SMAPE).mean()"
   ]
  },
  {
   "cell_type": "code",
   "execution_count": 62,
   "metadata": {
    "collapsed": false
   },
   "outputs": [
    {
     "data": {
      "text/plain": [
       "0.06408154817332896"
      ]
     },
     "execution_count": 62,
     "metadata": {},
     "output_type": "execute_result"
    }
   ],
   "source": [
    "(final_df.gb_SMAPE - final_df.rnn_SMAPE).std() / np.sqrt(145063)"
   ]
  },
  {
   "cell_type": "code",
   "execution_count": 57,
   "metadata": {
    "collapsed": false
   },
   "outputs": [
    {
     "data": {
      "text/plain": [
       "1.420299057298783"
      ]
     },
     "execution_count": 57,
     "metadata": {},
     "output_type": "execute_result"
    }
   ],
   "source": [
    "(final_df.rnn_SMAPE - final_df.wave_SMAPE).mean()"
   ]
  },
  {
   "cell_type": "code",
   "execution_count": 63,
   "metadata": {
    "collapsed": false
   },
   "outputs": [
    {
     "data": {
      "text/plain": [
       "0.0723559644258328"
      ]
     },
     "execution_count": 63,
     "metadata": {},
     "output_type": "execute_result"
    }
   ],
   "source": [
    "(final_df.rnn_SMAPE - final_df.wave_SMAPE).std() / np.sqrt(145063)"
   ]
  },
  {
   "cell_type": "code",
   "execution_count": 61,
   "metadata": {
    "collapsed": false
   },
   "outputs": [
    {
     "data": {
      "text/plain": [
       "8752162"
      ]
     },
     "execution_count": 61,
     "metadata": {},
     "output_type": "execute_result"
    }
   ],
   "source": [
    "len(final_df)"
   ]
  },
  {
   "cell_type": "code",
   "execution_count": null,
   "metadata": {
    "collapsed": true
   },
   "outputs": [],
   "source": []
  }
 ],
 "metadata": {
  "kernelspec": {
   "display_name": "Python 3",
   "language": "python",
   "name": "python3"
  },
  "language_info": {
   "codemirror_mode": {
    "name": "ipython",
    "version": 3
   },
   "file_extension": ".py",
   "mimetype": "text/x-python",
   "name": "python",
   "nbconvert_exporter": "python",
   "pygments_lexer": "ipython3",
   "version": "3.6.0"
  }
 },
 "nbformat": 4,
 "nbformat_minor": 2
}
