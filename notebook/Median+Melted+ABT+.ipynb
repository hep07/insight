{
 "cells": [
  {
   "cell_type": "code",
   "execution_count": 1,
   "metadata": {
    "collapsed": true
   },
   "outputs": [],
   "source": [
    "import numpy as np\n",
    "import pandas as pd\n",
    "import datetime\n",
    "pd.options.display.max_columns = 999\n",
    "pd.options.display.max_colwidth = 100\n",
    "\n",
    "import matplotlib.pyplot as plt\n",
    "%matplotlib inline\n",
    "\n",
    "import lightgbm as lgb\n",
    "\n",
    "import sys, os, gc, types\n",
    "import time\n",
    "from subprocess import check_output\n",
    "\n",
    "import sklearn\n",
    "from sklearn.model_selection import train_test_split"
   ]
  },
  {
   "cell_type": "code",
   "execution_count": 2,
   "metadata": {
    "collapsed": false
   },
   "outputs": [
    {
     "name": "stdout",
     "output_type": "stream",
     "text": [
      "date_df.csv\n",
      "key_1_modified.csv\n",
      "key_1_modified.pkl\n",
      "median_49.csv\n",
      "median_49_fix.csv\n",
      "median_49_fix.pkl\n",
      "median_dow0.csv\n",
      "median_dow0.pkl\n",
      "median_dow1.csv\n",
      "median_dow1.pkl\n",
      "median_dow2.csv\n",
      "median_dow2.pkl\n",
      "median_dow3.csv\n",
      "median_dow3.pkl\n",
      "median_dow4.csv\n",
      "median_dow4.pkl\n",
      "median_dow5.csv\n",
      "median_dow5.pkl\n",
      "median_dow6.csv\n",
      "median_dow6.pkl\n",
      "median_weekday.csv\n",
      "median_weekday_fix.csv\n",
      "median_weekday_fix.pkl\n",
      "median_weekend.csv\n",
      "median_weekend_fix.csv\n",
      "median_weekend_fix.pkl\n",
      "page_df.csv\n",
      "page_df.pkl\n",
      "page_ohe.csv\n",
      "page_ohe.pkl\n",
      "states.nn14-r1-1.npy\n",
      "sub5_prediction.sub5-r0.csv\n",
      "sub5_prediction.sub5-r1.csv\n",
      "test_date_df.csv\n",
      "test_prediction.gb2-r0.csv\n",
      "test_prediction.gb3-r0.csv\n",
      "test_prediction.gb3-r2.csv\n",
      "test_prediction.gb3_r1.csv\n",
      "test_prediction.gb3_r3.csv\n",
      "test_prediction.gb3_r4.csv\n",
      "test_prediction.gb4-r0.csv\n",
      "test_prediction.gb4-r1.csv\n",
      "test_prediction.gb5-r0.csv\n",
      "test_prediction.gb5-r1.csv\n",
      "train_1.csv\n",
      "\n"
     ]
    }
   ],
   "source": [
    "root_paths = [\n",
    "    \"/data/kaggle-wikipedia/data/\",\n",
    "    \"/Users/jiayou/Dropbox/JuanCode/Kaggle/Wikipedia/data/\",\n",
    "    \"/Users/jiayou/Dropbox/Documents/JuanCode/Kaggle/Wikipedia/data/\"\n",
    "]\n",
    "root = None\n",
    "for p in root_paths:\n",
    "    if os.path.exists(p):\n",
    "        root = p\n",
    "        break\n",
    "print(check_output([\"ls\", root]).decode(\"utf8\"))"
   ]
  },
  {
   "cell_type": "code",
   "execution_count": 3,
   "metadata": {
    "collapsed": true
   },
   "outputs": [],
   "source": [
    "median_data = []\n",
    "median_name = ['49_fix', 'weekday_fix', 'weekend_fix', 'dow0', 'dow1', 'dow2', 'dow3', 'dow4', 'dow5', 'dow6']\n",
    "for mname in median_name:\n",
    "    median_data.append(pd.read_pickle(root + 'median_{}.pkl'.format(mname)))\n",
    "\n",
    "val_days = 62\n",
    "if val_days != 0:\n",
    "    for j in range(len(median_name)):\n",
    "        last_day = median_data[j].iloc[:, -val_days-1].values.reshape((len(median_data[j]),1))\n",
    "        for i in range(-val_days, 0):\n",
    "            median_data[j].iloc[:, i] = last_day\n",
    "\n",
    "median_df = []\n",
    "\n",
    "for i in range(len(median_name)):\n",
    "    cur_median = median_data[i].melt(\n",
    "        id_vars=['Page'], \n",
    "        var_name='date', \n",
    "        value_name='median_{}'.format(median_name[i])\n",
    "    )\n",
    "    if i != 0:\n",
    "        cur_median.drop(['Page', 'date'], axis=1, inplace=True)\n",
    "    median_df.append(cur_median)\n",
    "    \n",
    "pd.concat(median_df, axis=1).to_pickle(\n",
    "    os.path.join(root, 'melted_median_62.pkl'))\n"
   ]
  }
 ],
 "metadata": {
  "kernelspec": {
   "display_name": "Python 3",
   "language": "python",
   "name": "python3"
  },
  "language_info": {
   "codemirror_mode": {
    "name": "ipython",
    "version": 3
   },
   "file_extension": ".py",
   "mimetype": "text/x-python",
   "name": "python",
   "nbconvert_exporter": "python",
   "pygments_lexer": "ipython3",
   "version": "3.6.0"
  }
 },
 "nbformat": 4,
 "nbformat_minor": 2
}
