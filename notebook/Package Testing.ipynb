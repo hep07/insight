{
 "cells": [
  {
   "cell_type": "code",
   "execution_count": 1,
   "metadata": {
    "collapsed": false
   },
   "outputs": [],
   "source": [
    "import forecaster"
   ]
  },
  {
   "cell_type": "code",
   "execution_count": 3,
   "metadata": {
    "collapsed": false
   },
   "outputs": [
    {
     "name": "stdout",
     "output_type": "stream",
     "text": [
      "current working directory /Users/junxie/Dropbox/JuanCode/Insight/project/data_mini/\n"
     ]
    }
   ],
   "source": [
    "import numpy as np\n",
    "import pandas as pd\n",
    "import sys, os, gc, types\n",
    "from sklearn.preprocessing import LabelEncoder\n",
    "\n",
    "root_paths = [\n",
    "    \"/Users/jiayou/Dropbox/JuanCode/Kaggle/Wikipedia/data2/\", # Mac\n",
    "    \"/Users/jiayou/Dropbox/Documents/JuanCode/Kaggle/Wikipedia/data2/\", # 1080\n",
    "    '/Users/junxie/Dropbox/JuanCode/Insight/project/data_mini/', # pro\n",
    "    '/mnt/WD Black/Dropbox/JuanCode/Insight/Project/data_mini/', # paperspace\n",
    "]\n",
    "root = None\n",
    "for p in root_paths:\n",
    "    if os.path.exists(p):\n",
    "        root = p\n",
    "        break\n",
    "print('current working directory', root)\n",
    "\n",
    "def parse_page(x):\n",
    "    x = x.split('_')\n",
    "    return ' '.join(x[:-3]), x[-3], x[-2], x[-1]\n",
    "\n",
    "df = pd.read_pickle(root + 'train_mini.pkl')\n",
    "df.fillna(0, inplace = True)\n",
    "\n",
    "# extract date features\n",
    "date_cols = [i for i in df.columns if i != 'Page']\n",
    "\n",
    "date = pd.to_datetime(date_cols)\n",
    "\n",
    "fdate = pd.DataFrame(date_cols, columns = ['date'])\n",
    "\n",
    "fdate['dayofweek'] = date.dayofweek\n",
    "fdate['dayofmonth'] = date.day\n",
    "fdate['dayofyear'] = date.dayofyear\n",
    "fdate['month'] = date.month\n",
    "fdate['year'] = date.year\n",
    "fdate['isweekday'] = (fdate.dayofweek < 5).astype(np.int32)\n",
    "\n",
    "fdate.drop(['date'], axis=1, inplace=True)\n",
    "\n",
    "fdate.to_pickle(root+'processed/fdate.pkl')\n",
    "\n",
    "# extract data\n",
    "data = df[date_cols].values\n",
    "np.save(root+'processed/data.npy', data)\n",
    "\n",
    "# extract page features\n",
    "df['name'], df['domain'], df['access'], df['agent'] = zip(*df['Page'].apply(parse_page))\n",
    "le = LabelEncoder()\n",
    "df['domain'] = le.fit_transform(df['domain'])\n",
    "df['access'] = le.fit_transform(df['access'])\n",
    "df['agent'] = le.fit_transform(df['agent'])\n",
    "fpage = df[['domain', 'access', 'agent']]\n",
    "fpage.to_pickle(root+'processed/fpage.pkl')"
   ]
  },
  {
   "cell_type": "code",
   "execution_count": null,
   "metadata": {
    "collapsed": true
   },
   "outputs": [],
   "source": []
  }
 ],
 "metadata": {
  "kernelspec": {
   "display_name": "Python 3",
   "language": "python",
   "name": "python3"
  },
  "language_info": {
   "codemirror_mode": {
    "name": "ipython",
    "version": 3
   },
   "file_extension": ".py",
   "mimetype": "text/x-python",
   "name": "python",
   "nbconvert_exporter": "python",
   "pygments_lexer": "ipython3",
   "version": "3.6.0"
  }
 },
 "nbformat": 4,
 "nbformat_minor": 2
}
