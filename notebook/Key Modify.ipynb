{
 "cells": [
  {
   "cell_type": "code",
   "execution_count": 1,
   "metadata": {},
   "outputs": [],
   "source": [
    "import numpy as np\n",
    "import pandas as pd\n",
    "import datetime\n",
    "pd.options.display.max_columns = 999\n",
    "pd.options.display.max_colwidth = 100\n",
    "\n",
    "import matplotlib.pyplot as plt\n",
    "%matplotlib inline\n",
    "\n",
    "import lightgbm as lgb\n",
    "\n",
    "import sys, os, gc, types\n",
    "import time\n",
    "from subprocess import check_output"
   ]
  },
  {
   "cell_type": "code",
   "execution_count": 8,
   "metadata": {},
   "outputs": [
    {
     "name": "stdout",
     "output_type": "stream",
     "text": [
      "date_df.pkl\n",
      "median_mini_14.pkl\n",
      "median_mini_49.pkl\n",
      "median_mini_7.pkl\n",
      "median_mini_dow0.pkl\n",
      "median_mini_dow1.pkl\n",
      "median_mini_dow2.pkl\n",
      "median_mini_dow3.pkl\n",
      "median_mini_dow4.pkl\n",
      "median_mini_dow5.pkl\n",
      "median_mini_dow6.pkl\n",
      "median_mini_weekday_14.pkl\n",
      "median_mini_weekday_49.pkl\n",
      "median_mini_weekend_14.pkl\n",
      "median_mini_weekend_49.pkl\n",
      "melted_median_mini_val62_14med.pkl\n",
      "melted_median_mini_val72_14med.pkl\n",
      "page_df.pkl\n",
      "page_ohe.pkl\n",
      "train_2.csv\n",
      "train_mini.pkl\n",
      "\n"
     ]
    }
   ],
   "source": [
    "root_paths = [\n",
    "    \"/data/kaggle-wikipedia/data2/\",\n",
    "#     \"/Users/jiayou/Dropbox/JuanCode/Kaggle/Wikipedia/data2/\",\n",
    "    \"/Users/jiayou/Dropbox/Documents/JuanCode/Kaggle/Wikipedia/data2/\",\n",
    "    '/mnt/WD Black/Dropbox/JuanCode/Insight/Project/data_mini/',\n",
    "]\n",
    "root = None\n",
    "for p in root_paths:\n",
    "    if os.path.exists(p):\n",
    "        root = p\n",
    "        break\n",
    "print(check_output([\"ls\", root]).decode(\"utf8\"))"
   ]
  },
  {
   "cell_type": "code",
   "execution_count": 3,
   "metadata": {},
   "outputs": [],
   "source": [
    "key = pd.read_csv(root + 'key_2.csv')"
   ]
  },
  {
   "cell_type": "code",
   "execution_count": 4,
   "metadata": {},
   "outputs": [
    {
     "data": {
      "text/html": [
       "<div>\n",
       "<style scoped>\n",
       "    .dataframe tbody tr th:only-of-type {\n",
       "        vertical-align: middle;\n",
       "    }\n",
       "\n",
       "    .dataframe tbody tr th {\n",
       "        vertical-align: top;\n",
       "    }\n",
       "\n",
       "    .dataframe thead th {\n",
       "        text-align: right;\n",
       "    }\n",
       "</style>\n",
       "<table border=\"1\" class=\"dataframe\">\n",
       "  <thead>\n",
       "    <tr style=\"text-align: right;\">\n",
       "      <th></th>\n",
       "      <th>Page</th>\n",
       "      <th>Id</th>\n",
       "    </tr>\n",
       "  </thead>\n",
       "  <tbody>\n",
       "    <tr>\n",
       "      <th>0</th>\n",
       "      <td>007_スペクター_ja.wikipedia.org_all-access_all-agents_2017-09-13</td>\n",
       "      <td>0b293039387a</td>\n",
       "    </tr>\n",
       "    <tr>\n",
       "      <th>1</th>\n",
       "      <td>007_スペクター_ja.wikipedia.org_all-access_all-agents_2017-09-14</td>\n",
       "      <td>7114389dd824</td>\n",
       "    </tr>\n",
       "    <tr>\n",
       "      <th>2</th>\n",
       "      <td>007_スペクター_ja.wikipedia.org_all-access_all-agents_2017-09-15</td>\n",
       "      <td>057b02ff1f09</td>\n",
       "    </tr>\n",
       "    <tr>\n",
       "      <th>3</th>\n",
       "      <td>007_スペクター_ja.wikipedia.org_all-access_all-agents_2017-09-16</td>\n",
       "      <td>bd2aca21caa3</td>\n",
       "    </tr>\n",
       "    <tr>\n",
       "      <th>4</th>\n",
       "      <td>007_スペクター_ja.wikipedia.org_all-access_all-agents_2017-09-17</td>\n",
       "      <td>c0effb42cdd5</td>\n",
       "    </tr>\n",
       "  </tbody>\n",
       "</table>\n",
       "</div>"
      ],
      "text/plain": [
       "                                                          Page            Id\n",
       "0  007_スペクター_ja.wikipedia.org_all-access_all-agents_2017-09-13  0b293039387a\n",
       "1  007_スペクター_ja.wikipedia.org_all-access_all-agents_2017-09-14  7114389dd824\n",
       "2  007_スペクター_ja.wikipedia.org_all-access_all-agents_2017-09-15  057b02ff1f09\n",
       "3  007_スペクター_ja.wikipedia.org_all-access_all-agents_2017-09-16  bd2aca21caa3\n",
       "4  007_スペクター_ja.wikipedia.org_all-access_all-agents_2017-09-17  c0effb42cdd5"
      ]
     },
     "execution_count": 4,
     "metadata": {},
     "output_type": "execute_result"
    }
   ],
   "source": [
    "key.head()"
   ]
  },
  {
   "cell_type": "code",
   "execution_count": 9,
   "metadata": {},
   "outputs": [
    {
     "data": {
      "text/plain": [
       "(62, 3)"
      ]
     },
     "execution_count": 9,
     "metadata": {},
     "output_type": "execute_result"
    }
   ],
   "source": [
    "key[key.Page == '!vote_en.wikipedia.org_all-access_all-agents'].shape"
   ]
  },
  {
   "cell_type": "code",
   "execution_count": 31,
   "metadata": {},
   "outputs": [],
   "source": [
    "# sample_submission.head()"
   ]
  },
  {
   "cell_type": "code",
   "execution_count": 5,
   "metadata": {},
   "outputs": [],
   "source": [
    "page_date = key.Page.values\n",
    "date_list = []\n",
    "page_list = []\n",
    "\n",
    "for i in range(len(page_date)):\n",
    "    date_list.append(page_date[i][-10:])\n",
    "    page_list.append(page_date[i][:-11])\n",
    "\n",
    "key['Page'] = page_list\n",
    "key['date'] = date_list"
   ]
  },
  {
   "cell_type": "code",
   "execution_count": 7,
   "metadata": {},
   "outputs": [
    {
     "data": {
      "text/plain": [
       "array(['007_スペクター_ja.wikipedia.org_all-access_all-agents',\n",
       "       '007_スペクター_ja.wikipedia.org_all-access_spider',\n",
       "       '007_スペクター_ja.wikipedia.org_desktop_all-agents', ...,\n",
       "       '龔嘉欣_zh.wikipedia.org_mobile-web_all-agents',\n",
       "       '龔照勝_zh.wikipedia.org_desktop_all-agents',\n",
       "       '龙生九子_zh.wikipedia.org_mobile-web_all-agents'], dtype=object)"
      ]
     },
     "execution_count": 7,
     "metadata": {},
     "output_type": "execute_result"
    }
   ],
   "source": [
    "key.Page.unique()"
   ]
  },
  {
   "cell_type": "code",
   "execution_count": 9,
   "metadata": {},
   "outputs": [],
   "source": [
    "key.to_pickle(root+'key_2_modified.pkl')"
   ]
  },
  {
   "cell_type": "markdown",
   "metadata": {},
   "source": [
    "# Prediction"
   ]
  },
  {
   "cell_type": "code",
   "execution_count": null,
   "metadata": {
    "collapsed": true
   },
   "outputs": [],
   "source": []
  }
 ],
 "metadata": {
  "kernelspec": {
   "display_name": "Python 3",
   "language": "python",
   "name": "python3"
  },
  "language_info": {
   "codemirror_mode": {
    "name": "ipython",
    "version": 3
   },
   "file_extension": ".py",
   "mimetype": "text/x-python",
   "name": "python",
   "nbconvert_exporter": "python",
   "pygments_lexer": "ipython3",
   "version": "3.6.3"
  }
 },
 "nbformat": 4,
 "nbformat_minor": 2
}
